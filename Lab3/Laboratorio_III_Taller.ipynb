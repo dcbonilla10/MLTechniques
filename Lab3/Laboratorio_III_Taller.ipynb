{
 "cells": [
  {
   "cell_type": "markdown",
   "metadata": {
    "colab_type": "text",
    "id": "view-in-github"
   },
   "source": [
    "<a href=\"https://colab.research.google.com/github/Camilojaravila/202120_ISIS4219_01-MACHINE_LEARNING_TECHNIQUES/blob/main/Lab_3/Taller/Laboratorio_III_Taller.ipynb\" target=\"_parent\"><img src=\"https://colab.research.google.com/assets/colab-badge.svg\" alt=\"Open In Colab\"/></a>"
   ]
  },
  {
   "cell_type": "markdown",
   "metadata": {
    "id": "Omzxgxd16_Pc"
   },
   "source": [
    "\n",
    "<img src=\"https://bloqueneon.uniandes.edu.co/content/enforced/52233-202120_ISIS4219_01/Laboratorios.png?_&d2lSessionVal=guLBE9l4cI9Tip6PM5JSzKgp6&_&d2lSessionVal=iDtWjzbHb92iC3sVmHUqajJ2k&_&d2lSessionVal=g2xptlvZ5GrV3W5yGlhIgeBnN\" ><br>\n",
    "# Machine Learning Techniques - ISIS4219\n",
    "\n",
    "Segundo Semestre - 2021\n",
    "\n"
   ]
  },
  {
   "cell_type": "markdown",
   "metadata": {
    "id": "5Tog_-kV_ful"
   },
   "source": [
    "## Integrantes\n",
    "\n",
    "*   Laura González.\n",
    "*   Nicolas Gaitan.\n",
    "*   David Bonilla.\n",
    "\n"
   ]
  },
  {
   "cell_type": "markdown",
   "metadata": {
    "id": "lAZL78yfcqCn"
   },
   "source": [
    "## **Problema**\n",
    "\n",
    "Ante la situación actual de sanidad pública en el mundo a causa del COVID-19. La detección temprana de esta enfermedad en los pacientes, la automatización de procesos de diagnóstico y el apoyo a los diferentes expertos de esta enfermedad juega un papel muy importante para enfrentar una pandemia el cual ha registrado más de 230 millones de contagios, dejando sin vida a 4 millones de personas alrededor del mundo (OMS, 2021).\n",
    "\n",
    "Sin embargo, todo este tiempo de cuarentena no solo ha servido para frenar la tasa de contagio del virus. También nos ha permitido recolectar diferentes radiografias de pacientes quienes han sufrido esta enfermedad, junto a otras enfermedades que pueden llegar a tener un una confusión con la enfermedad provocada por el virus. Por ello, es importante determinar con exactitud el tipo de enfermedad para poder recomendar el mejor tratamiento para el paciente.\n",
    "\n",
    "Se han recolectado alrededor de 21 mil imágenes provenientes de diferentes paises del medio oriente como Catar, Pakistan y Malasia. Y, ante la reactivación económica que se quiere llevar a cabo, se teme una nueva ola de contagios, por lo que poder identificar estos casos dadas sus radiografías autmáticamente, sería de gran ayuda para los trabajadores de la Salud para determinar el tratamiento a los pacientes.\n",
    "\n",
    "Para eso, le han pedido que construya un modelo capaz de recibir esas imágenes y determinar bajo que probabilidad puede pertenecer a cada una de las clases de las enfermedades proporcionadas. Y así mismo determinar cuál sería el diagnóstico de ese paciente. Como sugerencia, le han pedido construir una Red Neuronal Artificial (ANN) la cual permita realizar este proceso de manera automática y sin supervisión de los expertos en el tema. \n",
    "\n",
    "Finalmente, Ante la urgencia del problema, le han pedido que utilicen las imágenes en escala de grises para poder realizar una carga y un almacenamiento de manera más óptima, y utilizar directamente como entrada esta imagen.\n",
    "\n",
    "**Fuente de Datos:** https://www.kaggle.com/preetviradiya/covid19-radiography-dataset\n",
    "\n",
    "**Referencias:**\n",
    "\n",
    "Coronavirus disease (COVID-19) – World Health Organization. (2021). Retrieved 5 October 2021, from https://www.who.int/emergencies/diseases/novel-coronavirus-2019?gclid=Cj0KCQjwwY-LBhD6ARIsACvT72PqduqyNWdB9YQ3awfqyC9FZ1y5Zy7srhp8wrVgEPPmzW4Jgll_Di8aAiDuEALw_wcB\n"
   ]
  },
  {
   "cell_type": "markdown",
   "metadata": {},
   "source": [
    "## Importe de librerias"
   ]
  },
  {
   "cell_type": "code",
   "execution_count": 3,
   "metadata": {},
   "outputs": [],
   "source": [
    "import pandas as pd"
   ]
  },
  {
   "cell_type": "markdown",
   "metadata": {
    "id": "_1Igm9V-Esmt"
   },
   "source": [
    "## Perfilamiento y entendimiento de los datos"
   ]
  },
  {
   "cell_type": "code",
   "execution_count": 5,
   "metadata": {},
   "outputs": [
    {
     "data": {
      "text/html": [
       "<div>\n",
       "<style scoped>\n",
       "    .dataframe tbody tr th:only-of-type {\n",
       "        vertical-align: middle;\n",
       "    }\n",
       "\n",
       "    .dataframe tbody tr th {\n",
       "        vertical-align: top;\n",
       "    }\n",
       "\n",
       "    .dataframe thead th {\n",
       "        text-align: right;\n",
       "    }\n",
       "</style>\n",
       "<table border=\"1\" class=\"dataframe\">\n",
       "  <thead>\n",
       "    <tr style=\"text-align: right;\">\n",
       "      <th></th>\n",
       "      <th>Unnamed: 0</th>\n",
       "      <th>file_name</th>\n",
       "      <th>image_data_grayscale</th>\n",
       "      <th>file_format</th>\n",
       "      <th>image_shape</th>\n",
       "      <th>label</th>\n",
       "    </tr>\n",
       "  </thead>\n",
       "  <tbody>\n",
       "    <tr>\n",
       "      <th>0</th>\n",
       "      <td>0</td>\n",
       "      <td>COVID-1.png</td>\n",
       "      <td>[[185  40   0 ...   0  24 131]\\n [ 75  14   0 ...</td>\n",
       "      <td>PNG</td>\n",
       "      <td>(299, 299)</td>\n",
       "      <td>COVID</td>\n",
       "    </tr>\n",
       "    <tr>\n",
       "      <th>1</th>\n",
       "      <td>1</td>\n",
       "      <td>COVID-10.png</td>\n",
       "      <td>[[135 133 131 ...  24  21  19]\\n [132 130 129 ...</td>\n",
       "      <td>PNG</td>\n",
       "      <td>(299, 299)</td>\n",
       "      <td>COVID</td>\n",
       "    </tr>\n",
       "    <tr>\n",
       "      <th>2</th>\n",
       "      <td>2</td>\n",
       "      <td>COVID-100.png</td>\n",
       "      <td>[[ 62  10   0 ... 197 200 209]\\n [ 35   6   0 ...</td>\n",
       "      <td>PNG</td>\n",
       "      <td>(299, 299)</td>\n",
       "      <td>COVID</td>\n",
       "    </tr>\n",
       "    <tr>\n",
       "      <th>3</th>\n",
       "      <td>3</td>\n",
       "      <td>COVID-1000.png</td>\n",
       "      <td>[[162 162 162 ...   4   4   5]\\n [ 26  26  26 ...</td>\n",
       "      <td>PNG</td>\n",
       "      <td>(299, 299)</td>\n",
       "      <td>COVID</td>\n",
       "    </tr>\n",
       "    <tr>\n",
       "      <th>4</th>\n",
       "      <td>4</td>\n",
       "      <td>COVID-1001.png</td>\n",
       "      <td>[[  0   0   0 ...   0   0   0]\\n [  0   0   0 ...</td>\n",
       "      <td>PNG</td>\n",
       "      <td>(299, 299)</td>\n",
       "      <td>COVID</td>\n",
       "    </tr>\n",
       "  </tbody>\n",
       "</table>\n",
       "</div>"
      ],
      "text/plain": [
       "   Unnamed: 0       file_name  \\\n",
       "0           0     COVID-1.png   \n",
       "1           1    COVID-10.png   \n",
       "2           2   COVID-100.png   \n",
       "3           3  COVID-1000.png   \n",
       "4           4  COVID-1001.png   \n",
       "\n",
       "                                image_data_grayscale file_format image_shape  \\\n",
       "0  [[185  40   0 ...   0  24 131]\\n [ 75  14   0 ...         PNG  (299, 299)   \n",
       "1  [[135 133 131 ...  24  21  19]\\n [132 130 129 ...         PNG  (299, 299)   \n",
       "2  [[ 62  10   0 ... 197 200 209]\\n [ 35   6   0 ...         PNG  (299, 299)   \n",
       "3  [[162 162 162 ...   4   4   5]\\n [ 26  26  26 ...         PNG  (299, 299)   \n",
       "4  [[  0   0   0 ...   0   0   0]\\n [  0   0   0 ...         PNG  (299, 299)   \n",
       "\n",
       "   label  \n",
       "0  COVID  \n",
       "1  COVID  \n",
       "2  COVID  \n",
       "3  COVID  \n",
       "4  COVID  "
      ]
     },
     "execution_count": 5,
     "metadata": {},
     "output_type": "execute_result"
    }
   ],
   "source": [
    "url = 'https://raw.githubusercontent.com/dcbonilla10/MLTechniques/master/Lab3/metadata.csv?token=ACSCSY2FZR5P3GP7WVRRLM3BN5V7G'\n",
    "data = pd.read_csv(url)\n",
    "data.head()"
   ]
  },
  {
   "cell_type": "code",
   "execution_count": 8,
   "metadata": {},
   "outputs": [
    {
     "data": {
      "text/html": [
       "<div>\n",
       "<style scoped>\n",
       "    .dataframe tbody tr th:only-of-type {\n",
       "        vertical-align: middle;\n",
       "    }\n",
       "\n",
       "    .dataframe tbody tr th {\n",
       "        vertical-align: top;\n",
       "    }\n",
       "\n",
       "    .dataframe thead th {\n",
       "        text-align: right;\n",
       "    }\n",
       "</style>\n",
       "<table border=\"1\" class=\"dataframe\">\n",
       "  <thead>\n",
       "    <tr style=\"text-align: right;\">\n",
       "      <th></th>\n",
       "      <th>Unnamed: 0</th>\n",
       "      <th>file_name</th>\n",
       "      <th>image_data_grayscale</th>\n",
       "      <th>file_format</th>\n",
       "      <th>image_shape</th>\n",
       "      <th>label</th>\n",
       "    </tr>\n",
       "  </thead>\n",
       "  <tbody>\n",
       "    <tr>\n",
       "      <th>0</th>\n",
       "      <td>0</td>\n",
       "      <td>COVID-1.png</td>\n",
       "      <td>[[185  40   0 ...   0  24 131]\\n [ 75  14   0 ...</td>\n",
       "      <td>PNG</td>\n",
       "      <td>(299, 299)</td>\n",
       "      <td>COVID</td>\n",
       "    </tr>\n",
       "    <tr>\n",
       "      <th>1</th>\n",
       "      <td>1</td>\n",
       "      <td>COVID-10.png</td>\n",
       "      <td>[[135 133 131 ...  24  21  19]\\n [132 130 129 ...</td>\n",
       "      <td>PNG</td>\n",
       "      <td>(299, 299)</td>\n",
       "      <td>COVID</td>\n",
       "    </tr>\n",
       "    <tr>\n",
       "      <th>2</th>\n",
       "      <td>2</td>\n",
       "      <td>COVID-100.png</td>\n",
       "      <td>[[ 62  10   0 ... 197 200 209]\\n [ 35   6   0 ...</td>\n",
       "      <td>PNG</td>\n",
       "      <td>(299, 299)</td>\n",
       "      <td>COVID</td>\n",
       "    </tr>\n",
       "    <tr>\n",
       "      <th>3</th>\n",
       "      <td>3</td>\n",
       "      <td>COVID-1000.png</td>\n",
       "      <td>[[162 162 162 ...   4   4   5]\\n [ 26  26  26 ...</td>\n",
       "      <td>PNG</td>\n",
       "      <td>(299, 299)</td>\n",
       "      <td>COVID</td>\n",
       "    </tr>\n",
       "    <tr>\n",
       "      <th>4</th>\n",
       "      <td>4</td>\n",
       "      <td>COVID-1001.png</td>\n",
       "      <td>[[  0   0   0 ...   0   0   0]\\n [  0   0   0 ...</td>\n",
       "      <td>PNG</td>\n",
       "      <td>(299, 299)</td>\n",
       "      <td>COVID</td>\n",
       "    </tr>\n",
       "    <tr>\n",
       "      <th>...</th>\n",
       "      <td>...</td>\n",
       "      <td>...</td>\n",
       "      <td>...</td>\n",
       "      <td>...</td>\n",
       "      <td>...</td>\n",
       "      <td>...</td>\n",
       "    </tr>\n",
       "    <tr>\n",
       "      <th>21160</th>\n",
       "      <td>21160</td>\n",
       "      <td>Viral Pneumonia-995.png</td>\n",
       "      <td>[[ 3  4  7 ... 62 61 59]\\n [ 2  3  6 ... 64 61...</td>\n",
       "      <td>PNG</td>\n",
       "      <td>(299, 299)</td>\n",
       "      <td>Viral Pneumonia</td>\n",
       "    </tr>\n",
       "    <tr>\n",
       "      <th>21161</th>\n",
       "      <td>21161</td>\n",
       "      <td>Viral Pneumonia-996.png</td>\n",
       "      <td>[[30 41 45 ... 66 63 60]\\n [32 43 48 ... 67 64...</td>\n",
       "      <td>PNG</td>\n",
       "      <td>(299, 299)</td>\n",
       "      <td>Viral Pneumonia</td>\n",
       "    </tr>\n",
       "    <tr>\n",
       "      <th>21162</th>\n",
       "      <td>21162</td>\n",
       "      <td>Viral Pneumonia-997.png</td>\n",
       "      <td>[[17 15  9 ... 93 96 98]\\n [23 19 13 ... 91 92...</td>\n",
       "      <td>PNG</td>\n",
       "      <td>(299, 299)</td>\n",
       "      <td>Viral Pneumonia</td>\n",
       "    </tr>\n",
       "    <tr>\n",
       "      <th>21163</th>\n",
       "      <td>21163</td>\n",
       "      <td>Viral Pneumonia-998.png</td>\n",
       "      <td>[[0.37254902 0.37647059 0.38431373 ... 0.47058...</td>\n",
       "      <td>PNG</td>\n",
       "      <td>(299, 299)</td>\n",
       "      <td>Viral Pneumonia</td>\n",
       "    </tr>\n",
       "    <tr>\n",
       "      <th>21164</th>\n",
       "      <td>21164</td>\n",
       "      <td>Viral Pneumonia-999.png</td>\n",
       "      <td>[[52 47 40 ... 16 16 18]\\n [51 45 40 ... 16 16...</td>\n",
       "      <td>PNG</td>\n",
       "      <td>(299, 299)</td>\n",
       "      <td>Viral Pneumonia</td>\n",
       "    </tr>\n",
       "  </tbody>\n",
       "</table>\n",
       "<p>21165 rows × 6 columns</p>\n",
       "</div>"
      ],
      "text/plain": [
       "       Unnamed: 0                file_name  \\\n",
       "0               0              COVID-1.png   \n",
       "1               1             COVID-10.png   \n",
       "2               2            COVID-100.png   \n",
       "3               3           COVID-1000.png   \n",
       "4               4           COVID-1001.png   \n",
       "...           ...                      ...   \n",
       "21160       21160  Viral Pneumonia-995.png   \n",
       "21161       21161  Viral Pneumonia-996.png   \n",
       "21162       21162  Viral Pneumonia-997.png   \n",
       "21163       21163  Viral Pneumonia-998.png   \n",
       "21164       21164  Viral Pneumonia-999.png   \n",
       "\n",
       "                                    image_data_grayscale file_format  \\\n",
       "0      [[185  40   0 ...   0  24 131]\\n [ 75  14   0 ...         PNG   \n",
       "1      [[135 133 131 ...  24  21  19]\\n [132 130 129 ...         PNG   \n",
       "2      [[ 62  10   0 ... 197 200 209]\\n [ 35   6   0 ...         PNG   \n",
       "3      [[162 162 162 ...   4   4   5]\\n [ 26  26  26 ...         PNG   \n",
       "4      [[  0   0   0 ...   0   0   0]\\n [  0   0   0 ...         PNG   \n",
       "...                                                  ...         ...   \n",
       "21160  [[ 3  4  7 ... 62 61 59]\\n [ 2  3  6 ... 64 61...         PNG   \n",
       "21161  [[30 41 45 ... 66 63 60]\\n [32 43 48 ... 67 64...         PNG   \n",
       "21162  [[17 15  9 ... 93 96 98]\\n [23 19 13 ... 91 92...         PNG   \n",
       "21163  [[0.37254902 0.37647059 0.38431373 ... 0.47058...         PNG   \n",
       "21164  [[52 47 40 ... 16 16 18]\\n [51 45 40 ... 16 16...         PNG   \n",
       "\n",
       "      image_shape            label  \n",
       "0      (299, 299)            COVID  \n",
       "1      (299, 299)            COVID  \n",
       "2      (299, 299)            COVID  \n",
       "3      (299, 299)            COVID  \n",
       "4      (299, 299)            COVID  \n",
       "...           ...              ...  \n",
       "21160  (299, 299)  Viral Pneumonia  \n",
       "21161  (299, 299)  Viral Pneumonia  \n",
       "21162  (299, 299)  Viral Pneumonia  \n",
       "21163  (299, 299)  Viral Pneumonia  \n",
       "21164  (299, 299)  Viral Pneumonia  \n",
       "\n",
       "[21165 rows x 6 columns]"
      ]
     },
     "execution_count": 8,
     "metadata": {},
     "output_type": "execute_result"
    }
   ],
   "source": [
    "data"
   ]
  },
  {
   "cell_type": "code",
   "execution_count": null,
   "metadata": {},
   "outputs": [],
   "source": []
  },
  {
   "cell_type": "code",
   "execution_count": null,
   "metadata": {},
   "outputs": [],
   "source": []
  },
  {
   "cell_type": "code",
   "execution_count": null,
   "metadata": {},
   "outputs": [],
   "source": []
  },
  {
   "cell_type": "code",
   "execution_count": null,
   "metadata": {},
   "outputs": [],
   "source": []
  },
  {
   "cell_type": "code",
   "execution_count": null,
   "metadata": {},
   "outputs": [],
   "source": []
  },
  {
   "cell_type": "code",
   "execution_count": null,
   "metadata": {},
   "outputs": [],
   "source": []
  },
  {
   "cell_type": "code",
   "execution_count": null,
   "metadata": {},
   "outputs": [],
   "source": []
  },
  {
   "cell_type": "code",
   "execution_count": null,
   "metadata": {},
   "outputs": [],
   "source": []
  },
  {
   "cell_type": "code",
   "execution_count": null,
   "metadata": {},
   "outputs": [],
   "source": []
  },
  {
   "cell_type": "code",
   "execution_count": null,
   "metadata": {},
   "outputs": [],
   "source": []
  },
  {
   "cell_type": "code",
   "execution_count": null,
   "metadata": {},
   "outputs": [],
   "source": []
  },
  {
   "cell_type": "code",
   "execution_count": null,
   "metadata": {},
   "outputs": [],
   "source": []
  },
  {
   "cell_type": "code",
   "execution_count": null,
   "metadata": {},
   "outputs": [],
   "source": []
  },
  {
   "cell_type": "code",
   "execution_count": null,
   "metadata": {},
   "outputs": [],
   "source": []
  },
  {
   "cell_type": "code",
   "execution_count": null,
   "metadata": {},
   "outputs": [],
   "source": []
  }
 ],
 "metadata": {
  "accelerator": "TPU",
  "colab": {
   "collapsed_sections": [],
   "include_colab_link": true,
   "name": "Laboratorio III - Taller.ipynb",
   "provenance": []
  },
  "kernelspec": {
   "display_name": "Python 3",
   "language": "python",
   "name": "python3"
  },
  "language_info": {
   "codemirror_mode": {
    "name": "ipython",
    "version": 3
   },
   "file_extension": ".py",
   "mimetype": "text/x-python",
   "name": "python",
   "nbconvert_exporter": "python",
   "pygments_lexer": "ipython3",
   "version": "3.8.8"
  }
 },
 "nbformat": 4,
 "nbformat_minor": 1
}
